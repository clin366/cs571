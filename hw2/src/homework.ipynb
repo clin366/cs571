{
 "cells": [
  {
   "cell_type": "code",
   "execution_count": 1,
   "metadata": {},
   "outputs": [],
   "source": [
    "import os"
   ]
  },
  {
   "cell_type": "code",
   "execution_count": 2,
   "metadata": {},
   "outputs": [],
   "source": [
    "from typing import List, Tuple\n",
    "\n",
    "from elit.component import Component\n",
    "from elit.embedding import FastText\n",
    "\n",
    "import csv\n",
    "# from src.util import tsv_reader\n",
    "# tsv_reader = csv.reader(open(tsv_file, 'rb'), delimiter='\\t')"
   ]
  },
  {
   "cell_type": "code",
   "execution_count": 3,
   "metadata": {},
   "outputs": [],
   "source": [
    "from util import tsv_reader"
   ]
  },
  {
   "cell_type": "code",
   "execution_count": 4,
   "metadata": {},
   "outputs": [
    {
     "name": "stderr",
     "output_type": "stream",
     "text": [
      "Using TensorFlow backend.\n"
     ]
    }
   ],
   "source": [
    "from keras.layers import Conv2D, MaxPooling2D\n",
    "from keras.preprocessing.image import ImageDataGenerator\n",
    "from keras.layers import Input, Dense, concatenate, Dropout, Activation, Flatten\n",
    "from keras.models import Model,model_from_json"
   ]
  },
  {
   "cell_type": "code",
   "execution_count": 5,
   "metadata": {},
   "outputs": [],
   "source": [
    "import numpy as np\n",
    "from keras.utils import np_utils"
   ]
  },
  {
   "cell_type": "code",
   "execution_count": 6,
   "metadata": {},
   "outputs": [],
   "source": [
    "from keras.optimizers import Adam"
   ]
  },
  {
   "cell_type": "code",
   "execution_count": 7,
   "metadata": {},
   "outputs": [],
   "source": [
    "resource_dir = '../res/'"
   ]
  },
  {
   "cell_type": "code",
   "execution_count": 8,
   "metadata": {},
   "outputs": [],
   "source": [
    "embedding_file = 'fasttext-50-180614.bin'"
   ]
  },
  {
   "cell_type": "code",
   "execution_count": 9,
   "metadata": {},
   "outputs": [],
   "source": [
    "trn_data = tsv_reader(resource_dir, 'sst.trn.tsv')\n",
    "dev_data = tsv_reader(resource_dir, 'sst.dev.tsv')\n",
    "tst_data = tsv_reader(resource_dir, 'sst.tst.tsv')"
   ]
  },
  {
   "cell_type": "code",
   "execution_count": 10,
   "metadata": {},
   "outputs": [],
   "source": [
    "# trn_data = csv.reader(open(resource_dir+'sst.trn.tsv', 'r'), delimiter='\\t')\n",
    "# dev_data = csv.reader(open(resource_dir+'sst.dev.tsv', 'r'), delimiter='\\t')\n",
    "# tst_data = csv.reader(open(resource_dir+'sst.tst.tsv', 'r'), delimiter='\\t')"
   ]
  },
  {
   "cell_type": "code",
   "execution_count": 11,
   "metadata": {},
   "outputs": [],
   "source": [
    "vsm = FastText(os.path.join(resource_dir, embedding_file))"
   ]
  },
  {
   "cell_type": "code",
   "execution_count": 12,
   "metadata": {},
   "outputs": [],
   "source": [
    "trn_ys, trn_xs = zip(*[(y, vsm.emb_list(x)) for y, x in trn_data])\n",
    "dev_ys, dev_xs = zip(*[(y, vsm.emb_list(x)) for y, x in dev_data])"
   ]
  },
  {
   "cell_type": "code",
   "execution_count": 13,
   "metadata": {},
   "outputs": [],
   "source": [
    "number_of_classes = 5\n",
    "\n",
    "Y_train = np_utils.to_categorical(trn_ys, number_of_classes)\n",
    "Y_dev = np_utils.to_categorical(dev_ys, number_of_classes)"
   ]
  },
  {
   "cell_type": "code",
   "execution_count": 14,
   "metadata": {},
   "outputs": [],
   "source": [
    "max_sentence_length = 80\n",
    "\n",
    "blank_embedding = vsm.emb_list(' ')[0]\n",
    "train_xs = []\n",
    "for line in trn_xs:\n",
    "    padding = max_sentence_length - len(line)\n",
    "    for i in range(0, padding):\n",
    "        line.append(blank_embedding)\n",
    "    train_xs.append(line)\n",
    "    \n",
    "train_xs = np.array(train_xs)\n",
    "\n",
    "devlop_xs = []\n",
    "for line in dev_xs:\n",
    "    padding = max_sentence_length - len(line)\n",
    "    for i in range(0, padding):\n",
    "        line.append(blank_embedding)\n",
    "    devlop_xs.append(line)\n",
    "devlop_xs = np.array(devlop_xs)\n",
    "\n",
    "train_xs = train_xs.reshape(train_xs.shape[0], train_xs.shape[1], train_xs.shape[2], 1)\n",
    "devlop_xs = devlop_xs.reshape(devlop_xs.shape[0], devlop_xs.shape[1], devlop_xs.shape[2], 1)"
   ]
  },
  {
   "cell_type": "code",
   "execution_count": 15,
   "metadata": {},
   "outputs": [],
   "source": [
    "first_ksize = 3\n",
    "second_ksize = 4\n",
    "third_ksize = 5"
   ]
  },
  {
   "cell_type": "code",
   "execution_count": 16,
   "metadata": {},
   "outputs": [],
   "source": [
    "embedding_dim = train_xs.shape[2]"
   ]
  },
  {
   "cell_type": "code",
   "execution_count": 17,
   "metadata": {},
   "outputs": [],
   "source": [
    "# import regularizer\n",
    "from keras.regularizers import l1,l2"
   ]
  },
  {
   "cell_type": "code",
   "execution_count": 51,
   "metadata": {},
   "outputs": [],
   "source": [
    "# instantiate regularizer\n",
    "# reg = l2(0.033)\n",
    "reg = l2(0.15)"
   ]
  },
  {
   "cell_type": "code",
   "execution_count": 52,
   "metadata": {},
   "outputs": [],
   "source": [
    "image_input = Input(shape=(max_sentence_length,embedding_dim, 1))\n",
    "\n",
    "\n",
    "first_kernel = Conv2D(64, (first_ksize, embedding_dim),strides=(1, 1),padding='valid', activation = 'relu')(image_input)\n",
    "first_kernel = MaxPooling2D(pool_size=(max_sentence_length-first_ksize+1, 1), strides=(1,1), padding='valid')(first_kernel)\n",
    "first_kernel = Flatten()(first_kernel)\n",
    "# first_kernel = Dense(512, activation='relu', activity_regularizer=reg)(first_kernel)\n",
    "\n",
    "\n",
    "second_kernel = Conv2D(64, (second_ksize, embedding_dim),strides=(1, 1),padding='valid', activation = 'relu')(image_input)\n",
    "second_kernel = MaxPooling2D(pool_size=(max_sentence_length-second_ksize+1, 1), strides=(1,1), padding='valid')(second_kernel)\n",
    "second_kernel = Flatten()(second_kernel)\n",
    "# second_kernel = Dense(512, activation='relu',activity_regularizer=reg)(second_kernel)\n",
    "\n",
    "\n",
    "third_kernel = Conv2D(64, (third_ksize, embedding_dim),strides=(1, 1),padding='valid', activation = 'relu')(image_input)\n",
    "third_kernel = MaxPooling2D(pool_size=(max_sentence_length-third_ksize+1, 1), strides=(1,1), padding='valid')(third_kernel)\n",
    "third_kernel = Flatten()(third_kernel)\n",
    "# third_kernel = Dense(512, activation='relu', activity_regularizer=reg)(third_kernel)\n",
    "\n",
    "merged = concatenate([first_kernel, second_kernel, third_kernel])\n",
    "merged = Dropout(0.5)(merged)\n",
    "# merged = Dropout(0.5)(first_kernel)\n",
    "output = Dense(5, activation='softmax', activity_regularizer=reg)(merged)"
   ]
  },
  {
   "cell_type": "code",
   "execution_count": 53,
   "metadata": {},
   "outputs": [],
   "source": [
    "model = Model(inputs=[image_input], outputs=output)"
   ]
  },
  {
   "cell_type": "code",
   "execution_count": 54,
   "metadata": {},
   "outputs": [],
   "source": [
    "model.compile(loss='categorical_crossentropy', optimizer=Adam(), metrics=['accuracy'])"
   ]
  },
  {
   "cell_type": "code",
   "execution_count": 55,
   "metadata": {},
   "outputs": [],
   "source": [
    "gen = ImageDataGenerator()\n",
    "\n",
    "test_gen = ImageDataGenerator()"
   ]
  },
  {
   "cell_type": "code",
   "execution_count": 56,
   "metadata": {},
   "outputs": [],
   "source": [
    "train_generator = gen.flow(train_xs, Y_train, batch_size=50)\n",
    "test_generator = test_gen.flow(devlop_xs,Y_dev, batch_size = 50)"
   ]
  },
  {
   "cell_type": "code",
   "execution_count": 57,
   "metadata": {},
   "outputs": [
    {
     "name": "stdout",
     "output_type": "stream",
     "text": [
      "Epoch 1/15\n",
      "170/170 [==============================] - 6s 34ms/step - loss: 3.1228 - acc: 0.3111 - val_loss: 3.0588 - val_acc: 0.3927\n",
      "Epoch 2/15\n",
      "170/170 [==============================] - 5s 28ms/step - loss: 3.0570 - acc: 0.3954 - val_loss: 3.0463 - val_acc: 0.4206\n",
      "Epoch 3/15\n",
      "170/170 [==============================] - 5s 28ms/step - loss: 3.0473 - acc: 0.4223 - val_loss: 3.0451 - val_acc: 0.4225\n",
      "Epoch 4/15\n",
      "170/170 [==============================] - 5s 28ms/step - loss: 3.0411 - acc: 0.4466 - val_loss: 3.0439 - val_acc: 0.4186\n",
      "Epoch 5/15\n",
      "170/170 [==============================] - 5s 29ms/step - loss: 3.0360 - acc: 0.4580 - val_loss: 3.0415 - val_acc: 0.4206\n",
      "Epoch 6/15\n",
      "170/170 [==============================] - 5s 28ms/step - loss: 3.0329 - acc: 0.4609 - val_loss: 3.0407 - val_acc: 0.4377\n",
      "Epoch 7/15\n",
      "170/170 [==============================] - 5s 30ms/step - loss: 3.0293 - acc: 0.4748 - val_loss: 3.0406 - val_acc: 0.4282\n",
      "Epoch 8/15\n",
      "170/170 [==============================] - 5s 29ms/step - loss: 3.0251 - acc: 0.4879 - val_loss: 3.0427 - val_acc: 0.4025\n",
      "Epoch 9/15\n",
      "170/170 [==============================] - 5s 30ms/step - loss: 3.0199 - acc: 0.5014 - val_loss: 3.0439 - val_acc: 0.4339\n",
      "Epoch 10/15\n",
      "170/170 [==============================] - 5s 30ms/step - loss: 3.0160 - acc: 0.5071 - val_loss: 3.0461 - val_acc: 0.4206\n",
      "Epoch 11/15\n",
      "170/170 [==============================] - 5s 30ms/step - loss: 3.0099 - acc: 0.5221 - val_loss: 3.0422 - val_acc: 0.4377\n",
      "Epoch 12/15\n",
      "170/170 [==============================] - 5s 30ms/step - loss: 3.0069 - acc: 0.5380 - val_loss: 3.0485 - val_acc: 0.4310\n",
      "Epoch 13/15\n",
      "170/170 [==============================] - 5s 30ms/step - loss: 3.0021 - acc: 0.5436 - val_loss: 3.0508 - val_acc: 0.4148\n",
      "Epoch 14/15\n",
      "170/170 [==============================] - 5s 29ms/step - loss: 3.0001 - acc: 0.5491 - val_loss: 3.0445 - val_acc: 0.4548\n",
      "Epoch 15/15\n",
      "170/170 [==============================] - 5s 31ms/step - loss: 2.9961 - acc: 0.5610 - val_loss: 3.0442 - val_acc: 0.4234\n"
     ]
    },
    {
     "data": {
      "text/plain": [
       "<keras.callbacks.History at 0x1369850f0>"
      ]
     },
     "execution_count": 57,
     "metadata": {},
     "output_type": "execute_result"
    }
   ],
   "source": [
    "model.fit_generator(train_generator, steps_per_epoch=train_xs.shape[0]//50, epochs=15, \n",
    "                    validation_data=test_generator, validation_steps=devlop_xs.shape[0]//50)"
   ]
  },
  {
   "cell_type": "code",
   "execution_count": 59,
   "metadata": {},
   "outputs": [],
   "source": [
    "pred = model.predict(train_xs[:100])"
   ]
  },
  {
   "cell_type": "code",
   "execution_count": 60,
   "metadata": {},
   "outputs": [],
   "source": [
    "y_classes = pred.argmax(axis=-1)"
   ]
  },
  {
   "cell_type": "code",
   "execution_count": 61,
   "metadata": {},
   "outputs": [
    {
     "data": {
      "text/plain": [
       "array([3, 4, 3, 3, 3, 4, 4, 4, 3, 3, 4, 2, 3, 2, 3, 3, 3, 2, 4, 3, 3, 2,\n",
       "       2, 4, 2, 2, 4, 3, 4, 1, 4, 3, 2, 3, 4, 3, 3, 3, 2, 3, 3, 4, 3, 3,\n",
       "       2, 0, 3, 4, 1, 4, 3, 4, 3, 3, 1, 4, 4, 3, 3, 3, 1, 4, 3, 3, 1, 1,\n",
       "       4, 3, 1, 4, 3, 1, 1, 3, 3, 3, 1, 4, 4, 4, 4, 3, 4, 3, 3, 4, 4, 3,\n",
       "       3, 4, 3, 3, 4, 4, 3, 3, 3, 3, 3, 4])"
      ]
     },
     "execution_count": 61,
     "metadata": {},
     "output_type": "execute_result"
    }
   ],
   "source": [
    "y_classes"
   ]
  },
  {
   "cell_type": "code",
   "execution_count": null,
   "metadata": {},
   "outputs": [],
   "source": [
    "train_xs.shape"
   ]
  },
  {
   "cell_type": "code",
   "execution_count": null,
   "metadata": {},
   "outputs": [],
   "source": [
    "shape"
   ]
  },
  {
   "cell_type": "code",
   "execution_count": null,
   "metadata": {},
   "outputs": [],
   "source": [
    "trn_xs[0]"
   ]
  },
  {
   "cell_type": "code",
   "execution_count": null,
   "metadata": {},
   "outputs": [],
   "source": [
    "trn_xs = np.array(trn_xs)\n",
    "dev_xs = np.array(dev_xs)"
   ]
  },
  {
   "cell_type": "code",
   "execution_count": null,
   "metadata": {},
   "outputs": [],
   "source": [
    "max_document_length = max([len(x) for x in dev_xs])"
   ]
  },
  {
   "cell_type": "code",
   "execution_count": null,
   "metadata": {},
   "outputs": [],
   "source": [
    "min_document_length = min([len(x) for x in trn_xs])"
   ]
  },
  {
   "cell_type": "code",
   "execution_count": null,
   "metadata": {},
   "outputs": [],
   "source": [
    "max_document_length"
   ]
  },
  {
   "cell_type": "code",
   "execution_count": null,
   "metadata": {},
   "outputs": [],
   "source": [
    "min_document_length"
   ]
  },
  {
   "cell_type": "code",
   "execution_count": null,
   "metadata": {},
   "outputs": [],
   "source": [
    "trn_data"
   ]
  },
  {
   "cell_type": "code",
   "execution_count": null,
   "metadata": {},
   "outputs": [],
   "source": [
    "dev_xs = np.asarray(dev_xs)"
   ]
  },
  {
   "cell_type": "code",
   "execution_count": null,
   "metadata": {},
   "outputs": [],
   "source": [
    "len(dev_xs[0])"
   ]
  },
  {
   "cell_type": "code",
   "execution_count": null,
   "metadata": {},
   "outputs": [],
   "source": [
    "dev_xs.reshape(dev_xs.size, len(dev_xs[0]), len(dev_xs[0][0]))"
   ]
  },
  {
   "cell_type": "code",
   "execution_count": null,
   "metadata": {},
   "outputs": [],
   "source": [
    "# load json and create model\n",
    "json_file = open('model.json', 'r')\n",
    "loaded_model_json = json_file.read()\n",
    "json_file.close()\n",
    "loaded_model = model_from_json(loaded_model_json)\n",
    "# load weights into new model\n",
    "loaded_model.load_weights(\"model.h5\")\n",
    "print(\"Loaded model from disk\")"
   ]
  },
  {
   "cell_type": "code",
   "execution_count": null,
   "metadata": {},
   "outputs": [],
   "source": [
    "# tsv_reader = csv.reader(open(tsv_file, 'rb'), delimiter='\\t')"
   ]
  }
 ],
 "metadata": {
  "kernelspec": {
   "display_name": "Python 3",
   "language": "python",
   "name": "python3"
  },
  "language_info": {
   "codemirror_mode": {
    "name": "ipython",
    "version": 3
   },
   "file_extension": ".py",
   "mimetype": "text/x-python",
   "name": "python",
   "nbconvert_exporter": "python",
   "pygments_lexer": "ipython3",
   "version": "3.6.5"
  }
 },
 "nbformat": 4,
 "nbformat_minor": 2
}
